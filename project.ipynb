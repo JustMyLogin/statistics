import pandas as pd
import numpy as np
import matplotlib.pyplot as plt
import seaborn as sns
from scipy import stats
import statsmodels.api as sm
from statsmodels.formula.api import ols

# Load the dataset
names = ['CRIM', 'ZN', 'INDUS', 'CHAS', 'NOX', 'RM', 'AGE', 'DIS', 'RAD', 'TAX', 'PTRATIO', 'LSTAT', 'MEDV']
df = pd.read_csv('https://archive.ics.uci.edu/ml/machine-learning-databases/housing/housing.data', 
                 delim_whitespace=True, 
                 names=names)

# Display the first few rows of the DataFrame
print(df.head())
print("\nDataFrame Info:")
print(df.info())


# Task 2

# Boxplot for "Median value of owner-occupied homes" (MEDV)

plt.figure(figsize=(10, 6))
sns.boxplot(y=df['MEDV'])
plt.title('Boxplot of Median Value of Owner-Occupied Homes')
plt.ylabel('Median Value ($1000\'s)')
plt.show()

# Bar plot for the Charles River variable (CHAS)

plt.figure(figsize=(8, 6))
sns.countplot(x=df['CHAS'])
plt.title('Count of Houses Bounded by Charles River')
plt.xlabel('Charles River Bounded (1=Yes, 0=No)')
plt.ylabel('Count')
plt.show()

# Boxplot for MEDV vs. AGE (Discretized)

# Discretize the AGE variable
df.loc[df['AGE'] <= 35, 'age_group'] = '35 years and younger'
df.loc[(df['AGE'] > 35) & (df['AGE'] < 70), 'age_group'] = 'between 35 and 70 years'
df.loc[df['AGE'] >= 70, 'age_group'] = '70 years and older'

plt.figure(figsize=(12, 8))
sns.boxplot(x='age_group', y='MEDV', data=df)
plt.title('Median Home Value vs. Age of House')
plt.xlabel('Age Group')
plt.ylabel('Median Value ($1000\'s)')
plt.show()


# Scatter plot for Nitric oxide concentrations (NOX) and non-retail business acres (INDUS)

plt.figure(figsize=(10, 8))
sns.scatterplot(x='INDUS', y='NOX', data=df)
plt.title('Nitric Oxide Concentrations vs. Non-Retail Business Acres')
plt.xlabel('Proportion of Non-Retail Business Acres per Town')
plt.ylabel('Nitric Oxide Concentration (parts per 10 million)')
plt.show()


# Histogram for Pupil-Teacher Ratio (PTRATIO)

plt.figure(figsize=(10, 6))
sns.histplot(df['PTRATIO'], bins=15, kde=False)
plt.title('Distribution of Pupil-Teacher Ratio')
plt.xlabel('Pupil-Teacher Ratio')
plt.ylabel('Frequency')
plt.show()




# Task 3: Use the Appropriate Tests

# T-test for MEDV vs. CHAS

# Separate the data into two groups based on the CHAS variable
river_houses = df[df['CHAS'] == 1]['MEDV']
non_river_houses = df[df['CHAS'] == 0]['MEDV']

# Perform the independent two-sample t-test
t_statistic, p_value = stats.ttest_ind(river_houses, non_river_houses, equal_var=False)

print(f"T-statistic: {t_statistic}")
print(f"P-value: {p_value}")

# State the conclusion
alpha = 0.05
if p_value < alpha:
    print("\nConclusion: We reject the null hypothesis. There is a significant difference in the median value of houses bounded by the Charles River.")
else:
    print("\nConclusion: We fail to reject the null hypothesis. There is no significant difference in the median value of houses bounded by the Charles River.")




# ANOVA for MEDV vs. AGE
from scipy.stats import f_oneway

# Perform ANOVA
f_statistic, p_value = f_oneway(df[df['age_group'] == '35 years and younger']['MEDV'],
                                df[df['age_group'] == 'between 35 and 70 years']['MEDV'],
                                df[df['age_group'] == '70 years and older']['MEDV'])

print(f"F-statistic: {f_statistic}")
print(f"P-value: {p_value}")

# State the conclusion
alpha = 0.05
if p_value < alpha:
    print("\nConclusion: We reject the null hypothesis. There is a significant difference in the median values of houses across the different age groups.")
else:
    print("\nConclusion: We fail to reject the null hypothesis. There is no significant difference in the median values of houses across the different age groups.")



# Pearson Correlation for NOX and INDUS
correlation_coefficient, p_value = stats.pearsonr(df['NOX'], df['INDUS'])

print(f"Pearson Correlation Coefficient: {correlation_coefficient}")
print(f"P-value: {p_value}")

# State the conclusion
alpha = 0.05
if p_value < alpha:
    print("\nConclusion: We reject the null hypothesis. There is a significant relationship between Nitric oxide concentrations and the proportion of non-retail business acres.")
else:
    print("\nConclusion: We fail to reject the null hypothesis. There is no significant relationship between Nitric oxide concentrations and the proportion of non-retail business acres.")


# Linear Regression for DIS and MEDV

# Add a constant to the independent variable for the regression model
X = sm.add_constant(df['DIS'])
y = df['MEDV']

# Fit the linear regression model
model = sm.OLS(y, X).fit()

# Print the model summary
print(model.summary())

# State the conclusion
print("\nConclusion: From the regression analysis, the coefficient for DIS represents the impact of an additional weighted distance to the five Boston employment centres on the median value of owner-occupied homes. A positive coefficient would indicate that homes farther away from employment centers tend to have a higher median value, while a negative coefficient would indicate the opposite.")
